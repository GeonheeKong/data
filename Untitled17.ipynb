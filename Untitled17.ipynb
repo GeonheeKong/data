{
  "nbformat": 4,
  "nbformat_minor": 0,
  "metadata": {
    "colab": {
      "provenance": [],
      "authorship_tag": "ABX9TyO+ZjNP6DfT286ZRPZZRsv1",
      "include_colab_link": true
    },
    "kernelspec": {
      "name": "python3",
      "display_name": "Python 3"
    },
    "language_info": {
      "name": "python"
    }
  },
  "cells": [
    {
      "cell_type": "markdown",
      "metadata": {
        "id": "view-in-github",
        "colab_type": "text"
      },
      "source": [
        "<a href=\"https://colab.research.google.com/github/GeonheeKong/dataAnalysis/blob/chapter1/Untitled17.ipynb\" target=\"_parent\"><img src=\"https://colab.research.google.com/assets/colab-badge.svg\" alt=\"Open In Colab\"/></a>"
      ]
    },
    {
      "cell_type": "markdown",
      "source": [
        "#시리즈 인덱스"
      ],
      "metadata": {
        "id": "mHH7vgL1nouK"
      }
    },
    {
      "cell_type": "code",
      "source": [
        "# dictionary --> Series"
      ],
      "metadata": {
        "id": "G1GJaxqmn14H"
      },
      "execution_count": null,
      "outputs": []
    },
    {
      "cell_type": "code",
      "execution_count": null,
      "metadata": {
        "id": "k50T7r1Fgc_P"
      },
      "outputs": [],
      "source": [
        "import pandas as pd"
      ]
    },
    {
      "cell_type": "code",
      "source": [
        "dict_data={'a':1,'b':2,'c':3}"
      ],
      "metadata": {
        "id": "yTUMGQ-FjIGn"
      },
      "execution_count": null,
      "outputs": []
    },
    {
      "cell_type": "code",
      "source": [
        "a=pd.Series(dict_data)"
      ],
      "metadata": {
        "id": "Vye5n-pzjWp5"
      },
      "execution_count": null,
      "outputs": []
    },
    {
      "cell_type": "code",
      "source": [
        "print(a)"
      ],
      "metadata": {
        "colab": {
          "base_uri": "https://localhost:8080/"
        },
        "id": "gPztwkyVjDtH",
        "outputId": "97a690b3-33e0-449a-d708-31af772cd0cc"
      },
      "execution_count": null,
      "outputs": [
        {
          "output_type": "stream",
          "name": "stdout",
          "text": [
            "a    1\n",
            "b    2\n",
            "c    3\n",
            "dtype: int64\n"
          ]
        }
      ]
    },
    {
      "cell_type": "code",
      "source": [
        "print(type(a))"
      ],
      "metadata": {
        "colab": {
          "base_uri": "https://localhost:8080/"
        },
        "id": "UZXAE5cEjhFa",
        "outputId": "34a84730-3809-46ef-b00e-f5c5f68cfd53"
      },
      "execution_count": null,
      "outputs": [
        {
          "output_type": "stream",
          "name": "stdout",
          "text": [
            "<class 'pandas.core.series.Series'>\n"
          ]
        }
      ]
    },
    {
      "cell_type": "code",
      "source": [
        "# List --> Series"
      ],
      "metadata": {
        "id": "Oo6yJ31_pZNw"
      },
      "execution_count": null,
      "outputs": []
    },
    {
      "cell_type": "code",
      "source": [
        "import pandas as pd"
      ],
      "metadata": {
        "id": "JrjVmC10judG"
      },
      "execution_count": null,
      "outputs": []
    },
    {
      "cell_type": "code",
      "source": [
        "list_data=['abc',1,'Apple',100,True]"
      ],
      "metadata": {
        "id": "nyqfU4rTke03"
      },
      "execution_count": null,
      "outputs": []
    },
    {
      "cell_type": "code",
      "source": [
        "t=pd.Series(list_data)"
      ],
      "metadata": {
        "id": "7Nfu6HxLkmCd"
      },
      "execution_count": null,
      "outputs": []
    },
    {
      "cell_type": "code",
      "source": [
        "print(t)"
      ],
      "metadata": {
        "colab": {
          "base_uri": "https://localhost:8080/"
        },
        "id": "8v74HZWWkpgv",
        "outputId": "a78cc497-4979-48e2-bbd8-9eb82a2d17eb"
      },
      "execution_count": null,
      "outputs": [
        {
          "output_type": "stream",
          "name": "stdout",
          "text": [
            "0      abc\n",
            "1        1\n",
            "2    Apple\n",
            "3      100\n",
            "4     True\n",
            "dtype: object\n"
          ]
        }
      ]
    },
    {
      "cell_type": "code",
      "source": [
        "# Series의 index/values속성"
      ],
      "metadata": {
        "id": "dwLInT_gnjHn"
      },
      "execution_count": null,
      "outputs": []
    },
    {
      "cell_type": "code",
      "source": [
        "idx=t.index"
      ],
      "metadata": {
        "id": "E1GZjhcEoEdP"
      },
      "execution_count": null,
      "outputs": []
    },
    {
      "cell_type": "code",
      "source": [
        "val=t.values"
      ],
      "metadata": {
        "id": "70hfLSjOoJaE"
      },
      "execution_count": null,
      "outputs": []
    },
    {
      "cell_type": "code",
      "source": [
        "print(idx)"
      ],
      "metadata": {
        "colab": {
          "base_uri": "https://localhost:8080/"
        },
        "id": "L5ykHI4LoLc2",
        "outputId": "e5dd02f4-cb6c-4f26-c5ed-77bf28a1a1c2"
      },
      "execution_count": null,
      "outputs": [
        {
          "output_type": "stream",
          "name": "stdout",
          "text": [
            "RangeIndex(start=0, stop=5, step=1)\n"
          ]
        }
      ]
    },
    {
      "cell_type": "code",
      "source": [
        "print(val)"
      ],
      "metadata": {
        "colab": {
          "base_uri": "https://localhost:8080/"
        },
        "id": "XxC3dEmZoOAX",
        "outputId": "c033b7c2-384d-43df-a362-6d2f93776892"
      },
      "execution_count": null,
      "outputs": [
        {
          "output_type": "stream",
          "name": "stdout",
          "text": [
            "['abc' 1 'Apple' 100 True]\n"
          ]
        }
      ]
    },
    {
      "cell_type": "markdown",
      "source": [
        "원소 선택"
      ],
      "metadata": {
        "id": "XaKH_yRAoumg"
      }
    },
    {
      "cell_type": "code",
      "source": [
        "# Tuple --> Series"
      ],
      "metadata": {
        "id": "ZtNECoLLpdh5"
      },
      "execution_count": null,
      "outputs": []
    },
    {
      "cell_type": "code",
      "source": [
        "import pandas as pd"
      ],
      "metadata": {
        "id": "mXQhLzZ_oOrI"
      },
      "execution_count": null,
      "outputs": []
    },
    {
      "cell_type": "code",
      "source": [
        "tup_data=('영인','2010-05-01','여',True)"
      ],
      "metadata": {
        "id": "PenCqEOIoy68"
      },
      "execution_count": null,
      "outputs": []
    },
    {
      "cell_type": "code",
      "source": [
        "t=pd.Series(tup_data,index=['이름','생년월일','성별','학생여부'])"
      ],
      "metadata": {
        "id": "YZn5T91Do74Y"
      },
      "execution_count": null,
      "outputs": []
    },
    {
      "cell_type": "code",
      "source": [
        "print(t)"
      ],
      "metadata": {
        "colab": {
          "base_uri": "https://localhost:8080/"
        },
        "id": "SD94WDuepF9s",
        "outputId": "df416048-3b2b-4dae-b020-9dd8e7c735c3"
      },
      "execution_count": null,
      "outputs": [
        {
          "output_type": "stream",
          "name": "stdout",
          "text": [
            "이름              영인\n",
            "생년월일    2010-05-01\n",
            "성별               여\n",
            "학생여부          True\n",
            "dtype: object\n"
          ]
        }
      ]
    },
    {
      "cell_type": "code",
      "source": [
        "print(t[0])"
      ],
      "metadata": {
        "colab": {
          "base_uri": "https://localhost:8080/"
        },
        "id": "ol1hKwuIpHow",
        "outputId": "cad16f0a-831e-4f33-a4f5-580b5f3829fc"
      },
      "execution_count": null,
      "outputs": [
        {
          "output_type": "stream",
          "name": "stdout",
          "text": [
            "영인\n"
          ]
        }
      ]
    },
    {
      "cell_type": "code",
      "source": [
        "print(t['이름'])"
      ],
      "metadata": {
        "colab": {
          "base_uri": "https://localhost:8080/"
        },
        "id": "oPa6oRihpkWr",
        "outputId": "ee94493d-2351-4f6c-cc9f-ca6ed6b4f776"
      },
      "execution_count": null,
      "outputs": [
        {
          "output_type": "stream",
          "name": "stdout",
          "text": [
            "영인\n"
          ]
        }
      ]
    },
    {
      "cell_type": "code",
      "source": [
        "print(t[[0,1]])"
      ],
      "metadata": {
        "colab": {
          "base_uri": "https://localhost:8080/"
        },
        "id": "ixkJ8_Jtpni5",
        "outputId": "6443721d-2fac-4c63-a563-810948ab5792"
      },
      "execution_count": null,
      "outputs": [
        {
          "output_type": "stream",
          "name": "stdout",
          "text": [
            "이름              영인\n",
            "생년월일    2010-05-01\n",
            "dtype: object\n"
          ]
        }
      ]
    },
    {
      "cell_type": "code",
      "source": [
        "print(t[1:2])"
      ],
      "metadata": {
        "colab": {
          "base_uri": "https://localhost:8080/"
        },
        "id": "77KsW069re55",
        "outputId": "36db4091-1007-4096-d920-14dc8c5f4a70"
      },
      "execution_count": null,
      "outputs": [
        {
          "output_type": "stream",
          "name": "stdout",
          "text": [
            "생년월일    2010-05-01\n",
            "dtype: object\n"
          ]
        }
      ]
    },
    {
      "cell_type": "code",
      "source": [
        "print(t['이름':'학생여부'])"
      ],
      "metadata": {
        "colab": {
          "base_uri": "https://localhost:8080/"
        },
        "id": "x3Zg0_Dcrge1",
        "outputId": "e4438a34-3c25-4f6d-bf98-96aef7db1dcd"
      },
      "execution_count": null,
      "outputs": [
        {
          "output_type": "stream",
          "name": "stdout",
          "text": [
            "이름              영인\n",
            "생년월일    2010-05-01\n",
            "성별               여\n",
            "학생여부          True\n",
            "dtype: object\n"
          ]
        }
      ]
    },
    {
      "cell_type": "code",
      "source": [
        "# 정수형 인덱스로 범위 설정하면 마지막 인덱스가 포함이 안되지만, 인덱스 이름을 사용하면 마지막 인덱스 포함"
      ],
      "metadata": {
        "id": "eNvJzhysrjql"
      },
      "execution_count": null,
      "outputs": []
    },
    {
      "cell_type": "markdown",
      "source": [
        "# 데이터프레임"
      ],
      "metadata": {
        "id": "6ue7FeOmr1NZ"
      }
    },
    {
      "cell_type": "code",
      "source": [
        "import pandas as pd"
      ],
      "metadata": {
        "id": "egmsB2YJpy2s"
      },
      "execution_count": null,
      "outputs": []
    },
    {
      "cell_type": "code",
      "source": [
        "dict_data={'c0':[1,2,3],'c1':[4,5,6],'c2':[7,8,9]}"
      ],
      "metadata": {
        "id": "EFn_k8M9tcnN"
      },
      "execution_count": null,
      "outputs": []
    },
    {
      "cell_type": "code",
      "source": [
        "t=pd.DataFrame(dict_data)"
      ],
      "metadata": {
        "id": "qcxqmH6qtoAv"
      },
      "execution_count": null,
      "outputs": []
    },
    {
      "cell_type": "code",
      "source": [
        "print(t)"
      ],
      "metadata": {
        "colab": {
          "base_uri": "https://localhost:8080/"
        },
        "id": "8e62uUprtqRd",
        "outputId": "491a3ab7-5149-468c-b0b4-222f00d146ca"
      },
      "execution_count": null,
      "outputs": [
        {
          "output_type": "stream",
          "name": "stdout",
          "text": [
            "   c0  c1  c2\n",
            "0   1   4   7\n",
            "1   2   5   8\n",
            "2   3   6   9\n"
          ]
        }
      ]
    },
    {
      "cell_type": "code",
      "source": [
        "print(type(t))"
      ],
      "metadata": {
        "colab": {
          "base_uri": "https://localhost:8080/"
        },
        "id": "2eijWnrvtrqD",
        "outputId": "30ddf7f0-0357-43f0-84e4-4b4c9f2fc8da"
      },
      "execution_count": null,
      "outputs": [
        {
          "output_type": "stream",
          "name": "stdout",
          "text": [
            "<class 'pandas.core.frame.DataFrame'>\n"
          ]
        }
      ]
    },
    {
      "cell_type": "code",
      "source": [
        "# 행 인덱스 / 열 이름 속성 사용자 지정"
      ],
      "metadata": {
        "id": "7DKDWt0vtx8X"
      },
      "execution_count": null,
      "outputs": []
    },
    {
      "cell_type": "code",
      "source": [
        "import pandas as pd"
      ],
      "metadata": {
        "id": "UMEdW05tuD28"
      },
      "execution_count": null,
      "outputs": []
    },
    {
      "cell_type": "code",
      "source": [
        "df=pd.DataFrame([[15,'남','덕영중'],[17,'여','덕영고']],index=['건희','수연'],columns=['나이','성별','학교'])"
      ],
      "metadata": {
        "id": "Pda23elluFgU"
      },
      "execution_count": null,
      "outputs": []
    },
    {
      "cell_type": "code",
      "source": [
        "print(df)"
      ],
      "metadata": {
        "colab": {
          "base_uri": "https://localhost:8080/"
        },
        "id": "o0hQ8-bkuf23",
        "outputId": "7df1a75c-0b05-4a73-c3a3-85fbcde623fa"
      },
      "execution_count": null,
      "outputs": [
        {
          "output_type": "stream",
          "name": "stdout",
          "text": [
            "    나이 성별   학교\n",
            "건희  15  남  덕영중\n",
            "수연  17  여  덕영고\n"
          ]
        }
      ]
    },
    {
      "cell_type": "code",
      "source": [
        "# 행 인덱스 /열 이름 속성 변경 (rename) (원본 수정할 때는 inplace=true)"
      ],
      "metadata": {
        "id": "BBdORl7Rugms"
      },
      "execution_count": null,
      "outputs": []
    },
    {
      "cell_type": "code",
      "source": [
        "df.index=['한석','수빈']"
      ],
      "metadata": {
        "id": "WXOBvCeQu3zk"
      },
      "execution_count": null,
      "outputs": []
    },
    {
      "cell_type": "code",
      "source": [
        "df.columns=['연령','성','소속']"
      ],
      "metadata": {
        "id": "pO4OYb4-u7kp"
      },
      "execution_count": null,
      "outputs": []
    },
    {
      "cell_type": "code",
      "source": [
        "print(df)"
      ],
      "metadata": {
        "colab": {
          "base_uri": "https://localhost:8080/"
        },
        "id": "Fbrd5kIVu_-j",
        "outputId": "c80fa5de-cfc8-4852-efc4-a20496756576"
      },
      "execution_count": null,
      "outputs": [
        {
          "output_type": "stream",
          "name": "stdout",
          "text": [
            "    연령  성   소속\n",
            "한석  15  남  덕영중\n",
            "수빈  17  여  덕영고\n"
          ]
        }
      ]
    },
    {
      "cell_type": "code",
      "source": [
        "df.rename(index={'한석':'건희','수빈':'수연'},inplace=True)"
      ],
      "metadata": {
        "id": "XTpFjpBkvAsu"
      },
      "execution_count": null,
      "outputs": []
    },
    {
      "cell_type": "code",
      "source": [
        "print(df)"
      ],
      "metadata": {
        "colab": {
          "base_uri": "https://localhost:8080/"
        },
        "id": "mCo-Qao5vhVS",
        "outputId": "9a137e10-8faf-4d18-ec07-6b09cb30d3bc"
      },
      "execution_count": null,
      "outputs": [
        {
          "output_type": "stream",
          "name": "stdout",
          "text": [
            "    연령  성   소속\n",
            "건희  15  남  덕영중\n",
            "수연  17  여  덕영고\n"
          ]
        }
      ]
    },
    {
      "cell_type": "code",
      "source": [
        "# 행/열 삭제 (drop) (axis - 행 삭제 시 0 / 열 삭제 시 1)"
      ],
      "metadata": {
        "id": "VR7cImJXvozU"
      },
      "execution_count": null,
      "outputs": []
    },
    {
      "cell_type": "code",
      "source": [
        "import pandas as pd"
      ],
      "metadata": {
        "id": "_t9DqH_Sv99c"
      },
      "execution_count": null,
      "outputs": []
    },
    {
      "cell_type": "code",
      "source": [
        "exam_data={'수학':[1,2,3],'영어':[4,5,6],'과학':[7,8,9],'사회':[10,11,12]}"
      ],
      "metadata": {
        "id": "f_nR_5SCwC0C"
      },
      "execution_count": null,
      "outputs": []
    },
    {
      "cell_type": "code",
      "source": [
        "df=pd.DataFrame(exam_data,index=['인아','서준','민아'])"
      ],
      "metadata": {
        "id": "Gi92BbIIwNUT"
      },
      "execution_count": null,
      "outputs": []
    },
    {
      "cell_type": "code",
      "source": [
        "print(df)"
      ],
      "metadata": {
        "colab": {
          "base_uri": "https://localhost:8080/"
        },
        "id": "_jZ8yTqRwVFr",
        "outputId": "ced84297-7722-4900-98c4-85bdb8459924"
      },
      "execution_count": null,
      "outputs": [
        {
          "output_type": "stream",
          "name": "stdout",
          "text": [
            "    수학  영어  과학  사회\n",
            "인아   1   4   7  10\n",
            "서준   2   5   8  11\n",
            "민아   3   6   9  12\n"
          ]
        }
      ]
    },
    {
      "cell_type": "code",
      "source": [
        "df2 = df[:]"
      ],
      "metadata": {
        "id": "6-6V0alQwZ0s"
      },
      "execution_count": null,
      "outputs": []
    },
    {
      "cell_type": "code",
      "source": [
        "df2.drop('인아',inplace=True)"
      ],
      "metadata": {
        "colab": {
          "base_uri": "https://localhost:8080/"
        },
        "id": "wM2hCagdwog9",
        "outputId": "dbde8125-e476-48d2-fa20-0ddabb8f2e14"
      },
      "execution_count": null,
      "outputs": [
        {
          "output_type": "stream",
          "name": "stderr",
          "text": [
            "<ipython-input-108-3734d5525f71>:1: SettingWithCopyWarning: \n",
            "A value is trying to be set on a copy of a slice from a DataFrame\n",
            "\n",
            "See the caveats in the documentation: https://pandas.pydata.org/pandas-docs/stable/user_guide/indexing.html#returning-a-view-versus-a-copy\n",
            "  df2.drop('인아',inplace=True)\n"
          ]
        }
      ]
    },
    {
      "cell_type": "code",
      "source": [
        "print(df2)"
      ],
      "metadata": {
        "colab": {
          "base_uri": "https://localhost:8080/"
        },
        "id": "Gy7WQLe4wvKc",
        "outputId": "15ff07f1-7a61-479a-bdd4-79f033960b08"
      },
      "execution_count": null,
      "outputs": [
        {
          "output_type": "stream",
          "name": "stdout",
          "text": [
            "    수학  영어  과학  사회\n",
            "서준   2   5   8  11\n",
            "민아   3   6   9  12\n"
          ]
        }
      ]
    },
    {
      "cell_type": "code",
      "source": [
        "df3=df[:]"
      ],
      "metadata": {
        "id": "vBNST35iw2QC"
      },
      "execution_count": null,
      "outputs": []
    },
    {
      "cell_type": "code",
      "source": [
        "df3.drop(['서준','인아'],inplace=True)"
      ],
      "metadata": {
        "colab": {
          "base_uri": "https://localhost:8080/"
        },
        "id": "FQ3upo-uxQeO",
        "outputId": "9af0c61a-4053-4fd4-8bd2-f3349e2b4221"
      },
      "execution_count": null,
      "outputs": [
        {
          "output_type": "stream",
          "name": "stderr",
          "text": [
            "<ipython-input-112-bc4cee2f0428>:1: SettingWithCopyWarning: \n",
            "A value is trying to be set on a copy of a slice from a DataFrame\n",
            "\n",
            "See the caveats in the documentation: https://pandas.pydata.org/pandas-docs/stable/user_guide/indexing.html#returning-a-view-versus-a-copy\n",
            "  df3.drop(['서준','인아'],inplace=True)\n"
          ]
        }
      ]
    },
    {
      "cell_type": "code",
      "source": [
        "print(df3)"
      ],
      "metadata": {
        "colab": {
          "base_uri": "https://localhost:8080/"
        },
        "id": "C9JVed8GxVHn",
        "outputId": "ebd35114-2418-401c-9dfd-8cd67779b68e"
      },
      "execution_count": null,
      "outputs": [
        {
          "output_type": "stream",
          "name": "stdout",
          "text": [
            "    수학  영어  과학  사회\n",
            "민아   3   6   9  12\n"
          ]
        }
      ]
    },
    {
      "cell_type": "code",
      "source": [
        "df3.drop(['수학'],axis=1,inplace=True)"
      ],
      "metadata": {
        "colab": {
          "base_uri": "https://localhost:8080/"
        },
        "id": "afI1i781xhqD",
        "outputId": "794f2984-dd6c-48de-d243-ee1680b137b7"
      },
      "execution_count": null,
      "outputs": [
        {
          "output_type": "stream",
          "name": "stderr",
          "text": [
            "<ipython-input-114-a91f46736528>:1: SettingWithCopyWarning: \n",
            "A value is trying to be set on a copy of a slice from a DataFrame\n",
            "\n",
            "See the caveats in the documentation: https://pandas.pydata.org/pandas-docs/stable/user_guide/indexing.html#returning-a-view-versus-a-copy\n",
            "  df3.drop(['수학'],axis=1,inplace=True)\n"
          ]
        }
      ]
    },
    {
      "cell_type": "code",
      "source": [
        "print(df3)"
      ],
      "metadata": {
        "colab": {
          "base_uri": "https://localhost:8080/"
        },
        "id": "BWb0swwnxvy9",
        "outputId": "b4a311a4-9b43-4f77-baf7-901c3f57e59b"
      },
      "execution_count": null,
      "outputs": [
        {
          "output_type": "stream",
          "name": "stdout",
          "text": [
            "    영어  과학  사회\n",
            "민아   6   9  12\n"
          ]
        }
      ]
    },
    {
      "cell_type": "code",
      "source": [
        "# 데이터베이스 - 행 선택"
      ],
      "metadata": {
        "id": "4Agu-gb9xwf9"
      },
      "execution_count": null,
      "outputs": []
    },
    {
      "cell_type": "code",
      "source": [
        "import pandas as pd"
      ],
      "metadata": {
        "id": "sx5nX4bixPEm"
      },
      "execution_count": null,
      "outputs": []
    },
    {
      "cell_type": "code",
      "source": [
        "exam_data={'이름': ['서준','동원','연아'], '수학':[90,80,70],'영어': [70,80,90],'과학':[80,80,80]}"
      ],
      "metadata": {
        "id": "8Zyaqkmb88j2"
      },
      "execution_count": null,
      "outputs": []
    },
    {
      "cell_type": "code",
      "source": [
        "df=pd.DataFrame(exam_data)"
      ],
      "metadata": {
        "id": "XPl4XwxZ9N4x"
      },
      "execution_count": null,
      "outputs": []
    },
    {
      "cell_type": "code",
      "source": [
        "print(df)"
      ],
      "metadata": {
        "colab": {
          "base_uri": "https://localhost:8080/"
        },
        "id": "JCOVOcf19Qtz",
        "outputId": "8afb0c40-6a68-4947-d4e8-e838d743a7d1"
      },
      "execution_count": null,
      "outputs": [
        {
          "output_type": "stream",
          "name": "stdout",
          "text": [
            "   이름  수학  영어  과학\n",
            "0  서준  90  70  80\n",
            "1  동원  80  80  80\n",
            "2  연아  70  90  80\n"
          ]
        }
      ]
    },
    {
      "cell_type": "code",
      "source": [
        "math1=df['수학']"
      ],
      "metadata": {
        "id": "0-XbLuru9R1V"
      },
      "execution_count": null,
      "outputs": []
    },
    {
      "cell_type": "code",
      "source": [
        "print(math1)"
      ],
      "metadata": {
        "colab": {
          "base_uri": "https://localhost:8080/"
        },
        "id": "9M7rnlpe9WWf",
        "outputId": "04362df0-1bd5-4302-db0c-11c7eded6e86"
      },
      "execution_count": null,
      "outputs": [
        {
          "output_type": "stream",
          "name": "stdout",
          "text": [
            "0    90\n",
            "1    80\n",
            "2    70\n",
            "Name: 수학, dtype: int64\n"
          ]
        }
      ]
    },
    {
      "cell_type": "code",
      "source": [
        "english=df['영어']"
      ],
      "metadata": {
        "id": "AmBEwFuy9Xbg"
      },
      "execution_count": null,
      "outputs": []
    },
    {
      "cell_type": "code",
      "source": [
        "print(english)"
      ],
      "metadata": {
        "colab": {
          "base_uri": "https://localhost:8080/"
        },
        "id": "hcx62UwD9dAk",
        "outputId": "47bc5a64-fea3-41ad-9a1f-777222ce91bb"
      },
      "execution_count": null,
      "outputs": [
        {
          "output_type": "stream",
          "name": "stdout",
          "text": [
            "0    70\n",
            "1    80\n",
            "2    90\n",
            "Name: 영어, dtype: int64\n"
          ]
        }
      ]
    },
    {
      "cell_type": "code",
      "source": [
        "multi=df[['영어','수학']]"
      ],
      "metadata": {
        "id": "fpCWvEdv9hF4"
      },
      "execution_count": null,
      "outputs": []
    },
    {
      "cell_type": "code",
      "source": [
        "print(multi)"
      ],
      "metadata": {
        "colab": {
          "base_uri": "https://localhost:8080/"
        },
        "id": "6S8lkLLI-cgz",
        "outputId": "9aa07d6b-0b36-49fc-c381-2db85a2ef671"
      },
      "execution_count": null,
      "outputs": [
        {
          "output_type": "stream",
          "name": "stdout",
          "text": [
            "   영어  수학\n",
            "0  70  90\n",
            "1  80  80\n",
            "2  90  70\n"
          ]
        }
      ]
    },
    {
      "cell_type": "code",
      "source": [
        " # 범위 슬라이싱의 고급 활요"
      ],
      "metadata": {
        "id": "gPxrzXf5-eJt"
      },
      "execution_count": null,
      "outputs": []
    },
    {
      "cell_type": "code",
      "source": [
        "print(df.iloc[0:2])"
      ],
      "metadata": {
        "colab": {
          "base_uri": "https://localhost:8080/"
        },
        "id": "LHjerWKe1CCF",
        "outputId": "30acb971-b306-4489-e393-866f343098ac"
      },
      "execution_count": null,
      "outputs": [
        {
          "output_type": "stream",
          "name": "stdout",
          "text": [
            "   이름  수학  영어  과학\n",
            "0  서준  90  70  80\n",
            "1  동원  80  80  80\n"
          ]
        }
      ]
    },
    {
      "cell_type": "code",
      "source": [
        "print(df.iloc[::-1])"
      ],
      "metadata": {
        "colab": {
          "base_uri": "https://localhost:8080/"
        },
        "id": "uHhvh7281JtW",
        "outputId": "f9fb07fb-e668-4e02-a370-d4374b8be788"
      },
      "execution_count": null,
      "outputs": [
        {
          "output_type": "stream",
          "name": "stdout",
          "text": [
            "   이름  수학  영어  과학\n",
            "2  연아  70  90  80\n",
            "1  동원  80  80  80\n",
            "0  서준  90  70  80\n"
          ]
        }
      ]
    },
    {
      "cell_type": "code",
      "source": [
        "# 원소 선택 --> loc : 인덱스 값 / iloc : 정수형 인덱스"
      ],
      "metadata": {
        "id": "zBzRiFW-2ANf"
      },
      "execution_count": null,
      "outputs": []
    },
    {
      "cell_type": "code",
      "source": [
        "print(df.iloc[:2,1:3])"
      ],
      "metadata": {
        "colab": {
          "base_uri": "https://localhost:8080/"
        },
        "id": "fc0C-Jeg2vR_",
        "outputId": "f6cf4e3f-890a-43c9-e1ef-05545d03db3d"
      },
      "execution_count": null,
      "outputs": [
        {
          "output_type": "stream",
          "name": "stdout",
          "text": [
            "   수학  영어\n",
            "0  90  70\n",
            "1  80  80\n"
          ]
        }
      ]
    },
    {
      "cell_type": "code",
      "source": [
        "print(df.iloc[1:2,2:3])"
      ],
      "metadata": {
        "colab": {
          "base_uri": "https://localhost:8080/"
        },
        "id": "6U0o9QLv21TK",
        "outputId": "037b1425-8f62-46d3-d70c-29f5dcaa252a"
      },
      "execution_count": null,
      "outputs": [
        {
          "output_type": "stream",
          "name": "stdout",
          "text": [
            "   영어\n",
            "1  80\n"
          ]
        }
      ]
    },
    {
      "cell_type": "code",
      "source": [
        "# 새로운 인덱스 값 지정 --> df.set_index"
      ],
      "metadata": {
        "id": "cHhKqOj2273K"
      },
      "execution_count": null,
      "outputs": []
    },
    {
      "cell_type": "code",
      "source": [
        "df.set_index('이름',inplace=True)"
      ],
      "metadata": {
        "id": "8kESrxWj3JJZ"
      },
      "execution_count": null,
      "outputs": []
    },
    {
      "cell_type": "code",
      "source": [
        "print(df)"
      ],
      "metadata": {
        "colab": {
          "base_uri": "https://localhost:8080/"
        },
        "id": "K3x1l4de3PYf",
        "outputId": "4314f62b-ba08-4ddd-c420-60523d76a189"
      },
      "execution_count": null,
      "outputs": [
        {
          "output_type": "stream",
          "name": "stdout",
          "text": [
            "    수학  영어  과학\n",
            "이름            \n",
            "서준  90  70  80\n",
            "동원  80  80  80\n",
            "연아  70  90  80\n"
          ]
        }
      ]
    },
    {
      "cell_type": "code",
      "source": [
        "print(df.iloc[1,2])"
      ],
      "metadata": {
        "colab": {
          "base_uri": "https://localhost:8080/"
        },
        "id": "idsqv5mX4Ydf",
        "outputId": "1038ac86-3881-4884-aab6-1b2300b884d5"
      },
      "execution_count": null,
      "outputs": [
        {
          "output_type": "stream",
          "name": "stdout",
          "text": [
            "80\n"
          ]
        }
      ]
    },
    {
      "cell_type": "code",
      "source": [
        "# 열 추가 --> df['열 이름']='데이터 값'"
      ],
      "metadata": {
        "id": "Wf01G_S_5mWW"
      },
      "execution_count": null,
      "outputs": []
    },
    {
      "cell_type": "code",
      "source": [
        "df['국어']=80"
      ],
      "metadata": {
        "id": "823X4bv55oHi"
      },
      "execution_count": null,
      "outputs": []
    },
    {
      "cell_type": "code",
      "source": [
        "print(df)"
      ],
      "metadata": {
        "colab": {
          "base_uri": "https://localhost:8080/"
        },
        "id": "6SHJ9yW96eTg",
        "outputId": "ea7b3466-e820-4302-9073-1e8855ea8380"
      },
      "execution_count": null,
      "outputs": [
        {
          "output_type": "stream",
          "name": "stdout",
          "text": [
            "    수학  영어  과학  국어\n",
            "이름                \n",
            "서준  90  70  80  80\n",
            "동원  80  80  80  80\n",
            "연아  70  90  80  80\n"
          ]
        }
      ]
    },
    {
      "cell_type": "code",
      "source": [
        "# 행 추가 --> df.loc[행 이름] = '데이터 값'"
      ],
      "metadata": {
        "id": "_oMEfAs76fTs"
      },
      "execution_count": null,
      "outputs": []
    },
    {
      "cell_type": "code",
      "source": [
        "df.loc['동규']=[10,14,35,65]"
      ],
      "metadata": {
        "id": "Ps8k5hE96-wm"
      },
      "execution_count": null,
      "outputs": []
    },
    {
      "cell_type": "code",
      "source": [
        "print(df)"
      ],
      "metadata": {
        "colab": {
          "base_uri": "https://localhost:8080/"
        },
        "id": "TV2zRaNl7bQX",
        "outputId": "5ff92196-8de8-4c26-c5bd-b82b7a59ad48"
      },
      "execution_count": null,
      "outputs": [
        {
          "output_type": "stream",
          "name": "stdout",
          "text": [
            "    수학  영어  과학  국어\n",
            "이름                \n",
            "서준  90  70  80  80\n",
            "동원  80  80  80  80\n",
            "연아  70  90  80  80\n",
            "동규  10  14  35  65\n"
          ]
        }
      ]
    },
    {
      "cell_type": "code",
      "source": [
        "# 원소 값 변경"
      ],
      "metadata": {
        "id": "TXpb9wAj7cOw"
      },
      "execution_count": null,
      "outputs": []
    },
    {
      "cell_type": "code",
      "source": [
        "df.iloc[0,3]=10"
      ],
      "metadata": {
        "id": "pH2qxCJh8bDh"
      },
      "execution_count": null,
      "outputs": []
    },
    {
      "cell_type": "code",
      "source": [
        "print(df)"
      ],
      "metadata": {
        "colab": {
          "base_uri": "https://localhost:8080/"
        },
        "id": "Iq9IU-vd8i5d",
        "outputId": "2239646d-bbed-4f73-c292-21191d4caa31"
      },
      "execution_count": null,
      "outputs": [
        {
          "output_type": "stream",
          "name": "stdout",
          "text": [
            "    수학  영어  과학  국어\n",
            "이름                \n",
            "서준  90  70  80  10\n",
            "동원  80  80  80  80\n",
            "연아  70  90  80  80\n",
            "동규  10  14  35  65\n"
          ]
        }
      ]
    },
    {
      "cell_type": "code",
      "source": [
        "# 행/열 위치 바꾸기 - transpose"
      ],
      "metadata": {
        "id": "DcVyA66_8kAr"
      },
      "execution_count": null,
      "outputs": []
    },
    {
      "cell_type": "code",
      "source": [
        "df=df.transpose()"
      ],
      "metadata": {
        "id": "-0WhrsaL82mq"
      },
      "execution_count": null,
      "outputs": []
    },
    {
      "cell_type": "code",
      "source": [
        "print(df)"
      ],
      "metadata": {
        "colab": {
          "base_uri": "https://localhost:8080/"
        },
        "id": "pn1Wi1X7873a",
        "outputId": "db3ec3e2-22cd-4f26-e0bf-5d16a764efae"
      },
      "execution_count": null,
      "outputs": [
        {
          "output_type": "stream",
          "name": "stdout",
          "text": [
            "이름  서준  동원  연아  동규\n",
            "수학  90  80  70  10\n",
            "영어  70  80  90  14\n",
            "과학  80  80  80  35\n",
            "국어  10  80  80  65\n"
          ]
        }
      ]
    },
    {
      "cell_type": "code",
      "source": [],
      "metadata": {
        "id": "yYaLqzVW88i1"
      },
      "execution_count": null,
      "outputs": []
    }
  ]
}