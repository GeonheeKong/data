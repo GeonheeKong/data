{
  "nbformat": 4,
  "nbformat_minor": 0,
  "metadata": {
    "colab": {
      "provenance": [],
      "authorship_tag": "ABX9TyN5xcEUq505eoXlALnAXB3o",
      "include_colab_link": true
    },
    "kernelspec": {
      "name": "python3",
      "display_name": "Python 3"
    },
    "language_info": {
      "name": "python"
    }
  },
  "cells": [
    {
      "cell_type": "markdown",
      "metadata": {
        "id": "view-in-github",
        "colab_type": "text"
      },
      "source": [
        "<a href=\"https://colab.research.google.com/github/GeonheeKong/dataAnalysis/blob/Chapter3/Untitled19.ipynb\" target=\"_parent\"><img src=\"https://colab.research.google.com/assets/colab-badge.svg\" alt=\"Open In Colab\"/></a>"
      ]
    },
    {
      "cell_type": "markdown",
      "source": [
        "#데이터프레임의 구조"
      ],
      "metadata": {
        "id": "7HRGsqFS1cBv"
      }
    },
    {
      "cell_type": "code",
      "source": [
        "import pandas as pd"
      ],
      "metadata": {
        "id": "w9Tr88iu1joP"
      },
      "execution_count": 1,
      "outputs": []
    },
    {
      "cell_type": "code",
      "source": [
        "from google.colab import files \n"
      ],
      "metadata": {
        "id": "9oSSeG8v1lvK"
      },
      "execution_count": 8,
      "outputs": []
    },
    {
      "cell_type": "code",
      "source": [
        "file=files.upload()"
      ],
      "metadata": {
        "colab": {
          "base_uri": "https://localhost:8080/",
          "height": 77
        },
        "id": "DUnSpq_a36qs",
        "outputId": "44211e1c-326f-4db3-8dd3-817c3826c1e8"
      },
      "execution_count": 11,
      "outputs": [
        {
          "output_type": "display_data",
          "data": {
            "text/plain": [
              "<IPython.core.display.HTML object>"
            ],
            "text/html": [
              "\n",
              "     <input type=\"file\" id=\"files-483de6d1-0ef8-409b-b4da-091183bf3180\" name=\"files[]\" multiple disabled\n",
              "        style=\"border:none\" />\n",
              "     <output id=\"result-483de6d1-0ef8-409b-b4da-091183bf3180\">\n",
              "      Upload widget is only available when the cell has been executed in the\n",
              "      current browser session. Please rerun this cell to enable.\n",
              "      </output>\n",
              "      <script>// Copyright 2017 Google LLC\n",
              "//\n",
              "// Licensed under the Apache License, Version 2.0 (the \"License\");\n",
              "// you may not use this file except in compliance with the License.\n",
              "// You may obtain a copy of the License at\n",
              "//\n",
              "//      http://www.apache.org/licenses/LICENSE-2.0\n",
              "//\n",
              "// Unless required by applicable law or agreed to in writing, software\n",
              "// distributed under the License is distributed on an \"AS IS\" BASIS,\n",
              "// WITHOUT WARRANTIES OR CONDITIONS OF ANY KIND, either express or implied.\n",
              "// See the License for the specific language governing permissions and\n",
              "// limitations under the License.\n",
              "\n",
              "/**\n",
              " * @fileoverview Helpers for google.colab Python module.\n",
              " */\n",
              "(function(scope) {\n",
              "function span(text, styleAttributes = {}) {\n",
              "  const element = document.createElement('span');\n",
              "  element.textContent = text;\n",
              "  for (const key of Object.keys(styleAttributes)) {\n",
              "    element.style[key] = styleAttributes[key];\n",
              "  }\n",
              "  return element;\n",
              "}\n",
              "\n",
              "// Max number of bytes which will be uploaded at a time.\n",
              "const MAX_PAYLOAD_SIZE = 100 * 1024;\n",
              "\n",
              "function _uploadFiles(inputId, outputId) {\n",
              "  const steps = uploadFilesStep(inputId, outputId);\n",
              "  const outputElement = document.getElementById(outputId);\n",
              "  // Cache steps on the outputElement to make it available for the next call\n",
              "  // to uploadFilesContinue from Python.\n",
              "  outputElement.steps = steps;\n",
              "\n",
              "  return _uploadFilesContinue(outputId);\n",
              "}\n",
              "\n",
              "// This is roughly an async generator (not supported in the browser yet),\n",
              "// where there are multiple asynchronous steps and the Python side is going\n",
              "// to poll for completion of each step.\n",
              "// This uses a Promise to block the python side on completion of each step,\n",
              "// then passes the result of the previous step as the input to the next step.\n",
              "function _uploadFilesContinue(outputId) {\n",
              "  const outputElement = document.getElementById(outputId);\n",
              "  const steps = outputElement.steps;\n",
              "\n",
              "  const next = steps.next(outputElement.lastPromiseValue);\n",
              "  return Promise.resolve(next.value.promise).then((value) => {\n",
              "    // Cache the last promise value to make it available to the next\n",
              "    // step of the generator.\n",
              "    outputElement.lastPromiseValue = value;\n",
              "    return next.value.response;\n",
              "  });\n",
              "}\n",
              "\n",
              "/**\n",
              " * Generator function which is called between each async step of the upload\n",
              " * process.\n",
              " * @param {string} inputId Element ID of the input file picker element.\n",
              " * @param {string} outputId Element ID of the output display.\n",
              " * @return {!Iterable<!Object>} Iterable of next steps.\n",
              " */\n",
              "function* uploadFilesStep(inputId, outputId) {\n",
              "  const inputElement = document.getElementById(inputId);\n",
              "  inputElement.disabled = false;\n",
              "\n",
              "  const outputElement = document.getElementById(outputId);\n",
              "  outputElement.innerHTML = '';\n",
              "\n",
              "  const pickedPromise = new Promise((resolve) => {\n",
              "    inputElement.addEventListener('change', (e) => {\n",
              "      resolve(e.target.files);\n",
              "    });\n",
              "  });\n",
              "\n",
              "  const cancel = document.createElement('button');\n",
              "  inputElement.parentElement.appendChild(cancel);\n",
              "  cancel.textContent = 'Cancel upload';\n",
              "  const cancelPromise = new Promise((resolve) => {\n",
              "    cancel.onclick = () => {\n",
              "      resolve(null);\n",
              "    };\n",
              "  });\n",
              "\n",
              "  // Wait for the user to pick the files.\n",
              "  const files = yield {\n",
              "    promise: Promise.race([pickedPromise, cancelPromise]),\n",
              "    response: {\n",
              "      action: 'starting',\n",
              "    }\n",
              "  };\n",
              "\n",
              "  cancel.remove();\n",
              "\n",
              "  // Disable the input element since further picks are not allowed.\n",
              "  inputElement.disabled = true;\n",
              "\n",
              "  if (!files) {\n",
              "    return {\n",
              "      response: {\n",
              "        action: 'complete',\n",
              "      }\n",
              "    };\n",
              "  }\n",
              "\n",
              "  for (const file of files) {\n",
              "    const li = document.createElement('li');\n",
              "    li.append(span(file.name, {fontWeight: 'bold'}));\n",
              "    li.append(span(\n",
              "        `(${file.type || 'n/a'}) - ${file.size} bytes, ` +\n",
              "        `last modified: ${\n",
              "            file.lastModifiedDate ? file.lastModifiedDate.toLocaleDateString() :\n",
              "                                    'n/a'} - `));\n",
              "    const percent = span('0% done');\n",
              "    li.appendChild(percent);\n",
              "\n",
              "    outputElement.appendChild(li);\n",
              "\n",
              "    const fileDataPromise = new Promise((resolve) => {\n",
              "      const reader = new FileReader();\n",
              "      reader.onload = (e) => {\n",
              "        resolve(e.target.result);\n",
              "      };\n",
              "      reader.readAsArrayBuffer(file);\n",
              "    });\n",
              "    // Wait for the data to be ready.\n",
              "    let fileData = yield {\n",
              "      promise: fileDataPromise,\n",
              "      response: {\n",
              "        action: 'continue',\n",
              "      }\n",
              "    };\n",
              "\n",
              "    // Use a chunked sending to avoid message size limits. See b/62115660.\n",
              "    let position = 0;\n",
              "    do {\n",
              "      const length = Math.min(fileData.byteLength - position, MAX_PAYLOAD_SIZE);\n",
              "      const chunk = new Uint8Array(fileData, position, length);\n",
              "      position += length;\n",
              "\n",
              "      const base64 = btoa(String.fromCharCode.apply(null, chunk));\n",
              "      yield {\n",
              "        response: {\n",
              "          action: 'append',\n",
              "          file: file.name,\n",
              "          data: base64,\n",
              "        },\n",
              "      };\n",
              "\n",
              "      let percentDone = fileData.byteLength === 0 ?\n",
              "          100 :\n",
              "          Math.round((position / fileData.byteLength) * 100);\n",
              "      percent.textContent = `${percentDone}% done`;\n",
              "\n",
              "    } while (position < fileData.byteLength);\n",
              "  }\n",
              "\n",
              "  // All done.\n",
              "  yield {\n",
              "    response: {\n",
              "      action: 'complete',\n",
              "    }\n",
              "  };\n",
              "}\n",
              "\n",
              "scope.google = scope.google || {};\n",
              "scope.google.colab = scope.google.colab || {};\n",
              "scope.google.colab._files = {\n",
              "  _uploadFiles,\n",
              "  _uploadFilesContinue,\n",
              "};\n",
              "})(self);\n",
              "</script> "
            ]
          },
          "metadata": {}
        },
        {
          "output_type": "stream",
          "name": "stdout",
          "text": [
            "Saving auto-mpg.csv to auto-mpg.csv\n"
          ]
        }
      ]
    },
    {
      "cell_type": "code",
      "source": [
        "import io"
      ],
      "metadata": {
        "id": "xdKtb47L1q4j"
      },
      "execution_count": 14,
      "outputs": []
    },
    {
      "cell_type": "code",
      "source": [
        "data=pd.read_csv(io.BytesIO(file['auto-mpg.csv']))"
      ],
      "metadata": {
        "id": "i5XzYweM99Lz"
      },
      "execution_count": 21,
      "outputs": []
    },
    {
      "cell_type": "code",
      "source": [
        "print(data)"
      ],
      "metadata": {
        "colab": {
          "base_uri": "https://localhost:8080/"
        },
        "id": "iS8kKPLg928G",
        "outputId": "3d4cfd30-20d9-4046-8533-52ed0c161481"
      },
      "execution_count": 22,
      "outputs": [
        {
          "output_type": "stream",
          "name": "stdout",
          "text": [
            "     18.0  8  307.0  130.0   3504.  12.0  70  1 chevrolet chevelle malibu\n",
            "0    15.0  8  350.0  165.0  3693.0  11.5  70  1         buick skylark 320\n",
            "1    18.0  8  318.0  150.0  3436.0  11.0  70  1        plymouth satellite\n",
            "2    16.0  8  304.0  150.0  3433.0  12.0  70  1             amc rebel sst\n",
            "3    17.0  8  302.0  140.0  3449.0  10.5  70  1               ford torino\n",
            "4    15.0  8  429.0  198.0  4341.0  10.0  70  1          ford galaxie 500\n",
            "..    ... ..    ...    ...     ...   ...  .. ..                       ...\n",
            "392  27.0  4  140.0  86.00  2790.0  15.6  82  1           ford mustang gl\n",
            "393  44.0  4   97.0  52.00  2130.0  24.6  82  2                 vw pickup\n",
            "394  32.0  4  135.0  84.00  2295.0  11.6  82  1             dodge rampage\n",
            "395  28.0  4  120.0  79.00  2625.0  18.6  82  1               ford ranger\n",
            "396  31.0  4  119.0  82.00  2720.0  19.4  82  1                chevy s-10\n",
            "\n",
            "[397 rows x 9 columns]\n"
          ]
        }
      ]
    },
    {
      "cell_type": "code",
      "source": [
        "data.columns=['mpg','cylinders','displacement','horsepower','weight','acceleration','model year','orgin','name'] "
      ],
      "metadata": {
        "id": "MghqZWsL-a6p"
      },
      "execution_count": 23,
      "outputs": []
    },
    {
      "cell_type": "code",
      "source": [
        "print(data)"
      ],
      "metadata": {
        "colab": {
          "base_uri": "https://localhost:8080/"
        },
        "id": "2-JXNt5T-5Qg",
        "outputId": "c5b405fd-6f4f-4355-bcda-97b7f6dc8487"
      },
      "execution_count": 24,
      "outputs": [
        {
          "output_type": "stream",
          "name": "stdout",
          "text": [
            "      mpg  cylinders  displacement horsepower  weight  acceleration  \\\n",
            "0    15.0          8         350.0      165.0  3693.0          11.5   \n",
            "1    18.0          8         318.0      150.0  3436.0          11.0   \n",
            "2    16.0          8         304.0      150.0  3433.0          12.0   \n",
            "3    17.0          8         302.0      140.0  3449.0          10.5   \n",
            "4    15.0          8         429.0      198.0  4341.0          10.0   \n",
            "..    ...        ...           ...        ...     ...           ...   \n",
            "392  27.0          4         140.0      86.00  2790.0          15.6   \n",
            "393  44.0          4          97.0      52.00  2130.0          24.6   \n",
            "394  32.0          4         135.0      84.00  2295.0          11.6   \n",
            "395  28.0          4         120.0      79.00  2625.0          18.6   \n",
            "396  31.0          4         119.0      82.00  2720.0          19.4   \n",
            "\n",
            "     model year  orgin                name  \n",
            "0            70      1   buick skylark 320  \n",
            "1            70      1  plymouth satellite  \n",
            "2            70      1       amc rebel sst  \n",
            "3            70      1         ford torino  \n",
            "4            70      1    ford galaxie 500  \n",
            "..          ...    ...                 ...  \n",
            "392          82      1     ford mustang gl  \n",
            "393          82      2           vw pickup  \n",
            "394          82      1       dodge rampage  \n",
            "395          82      1         ford ranger  \n",
            "396          82      1          chevy s-10  \n",
            "\n",
            "[397 rows x 9 columns]\n"
          ]
        }
      ]
    },
    {
      "cell_type": "code",
      "source": [
        "print(data.head(10))"
      ],
      "metadata": {
        "colab": {
          "base_uri": "https://localhost:8080/"
        },
        "id": "-Qwqbo8k-5u8",
        "outputId": "c761bb1a-c0cc-4c47-da36-37061ead88c9"
      },
      "execution_count": 25,
      "outputs": [
        {
          "output_type": "stream",
          "name": "stdout",
          "text": [
            "    mpg  cylinders  displacement horsepower  weight  acceleration  model year  \\\n",
            "0  15.0          8         350.0      165.0  3693.0          11.5          70   \n",
            "1  18.0          8         318.0      150.0  3436.0          11.0          70   \n",
            "2  16.0          8         304.0      150.0  3433.0          12.0          70   \n",
            "3  17.0          8         302.0      140.0  3449.0          10.5          70   \n",
            "4  15.0          8         429.0      198.0  4341.0          10.0          70   \n",
            "5  14.0          8         454.0      220.0  4354.0           9.0          70   \n",
            "6  14.0          8         440.0      215.0  4312.0           8.5          70   \n",
            "7  14.0          8         455.0      225.0  4425.0          10.0          70   \n",
            "8  15.0          8         390.0      190.0  3850.0           8.5          70   \n",
            "9  15.0          8         383.0      170.0  3563.0          10.0          70   \n",
            "\n",
            "   orgin                 name  \n",
            "0      1    buick skylark 320  \n",
            "1      1   plymouth satellite  \n",
            "2      1        amc rebel sst  \n",
            "3      1          ford torino  \n",
            "4      1     ford galaxie 500  \n",
            "5      1     chevrolet impala  \n",
            "6      1    plymouth fury iii  \n",
            "7      1     pontiac catalina  \n",
            "8      1   amc ambassador dpl  \n",
            "9      1  dodge challenger se  \n"
          ]
        }
      ]
    },
    {
      "cell_type": "code",
      "source": [
        "print(data.tail(10))"
      ],
      "metadata": {
        "colab": {
          "base_uri": "https://localhost:8080/"
        },
        "id": "Mhcj78Jf_Hp6",
        "outputId": "80c97553-ae74-43f7-9b3f-b7f7595d8e9b"
      },
      "execution_count": 26,
      "outputs": [
        {
          "output_type": "stream",
          "name": "stdout",
          "text": [
            "      mpg  cylinders  displacement horsepower  weight  acceleration  \\\n",
            "387  26.0          4         156.0      92.00  2585.0          14.5   \n",
            "388  22.0          6         232.0      112.0  2835.0          14.7   \n",
            "389  32.0          4         144.0      96.00  2665.0          13.9   \n",
            "390  36.0          4         135.0      84.00  2370.0          13.0   \n",
            "391  27.0          4         151.0      90.00  2950.0          17.3   \n",
            "392  27.0          4         140.0      86.00  2790.0          15.6   \n",
            "393  44.0          4          97.0      52.00  2130.0          24.6   \n",
            "394  32.0          4         135.0      84.00  2295.0          11.6   \n",
            "395  28.0          4         120.0      79.00  2625.0          18.6   \n",
            "396  31.0          4         119.0      82.00  2720.0          19.4   \n",
            "\n",
            "     model year  orgin                        name  \n",
            "387          82      1  chrysler lebaron medallion  \n",
            "388          82      1              ford granada l  \n",
            "389          82      3            toyota celica gt  \n",
            "390          82      1           dodge charger 2.2  \n",
            "391          82      1            chevrolet camaro  \n",
            "392          82      1             ford mustang gl  \n",
            "393          82      2                   vw pickup  \n",
            "394          82      1               dodge rampage  \n",
            "395          82      1                 ford ranger  \n",
            "396          82      1                  chevy s-10  \n"
          ]
        }
      ]
    },
    {
      "cell_type": "code",
      "source": [
        "print(data.shape) #투플 형태로 행과 열의 개수 나타냄"
      ],
      "metadata": {
        "colab": {
          "base_uri": "https://localhost:8080/"
        },
        "id": "5AB1L40m_JPg",
        "outputId": "f4362385-c98f-4cd3-95d5-0cafeba22733"
      },
      "execution_count": 29,
      "outputs": [
        {
          "output_type": "stream",
          "name": "stdout",
          "text": [
            "(397, 9)\n"
          ]
        }
      ]
    },
    {
      "cell_type": "code",
      "source": [
        "print(data.info()) #type에 대한 정보"
      ],
      "metadata": {
        "colab": {
          "base_uri": "https://localhost:8080/"
        },
        "id": "_crzQhUY_MFS",
        "outputId": "c0f6827f-f23d-489d-c43b-3d0b320ec1ec"
      },
      "execution_count": 31,
      "outputs": [
        {
          "output_type": "stream",
          "name": "stdout",
          "text": [
            "<class 'pandas.core.frame.DataFrame'>\n",
            "RangeIndex: 397 entries, 0 to 396\n",
            "Data columns (total 9 columns):\n",
            " #   Column        Non-Null Count  Dtype  \n",
            "---  ------        --------------  -----  \n",
            " 0   mpg           397 non-null    float64\n",
            " 1   cylinders     397 non-null    int64  \n",
            " 2   displacement  397 non-null    float64\n",
            " 3   horsepower    397 non-null    object \n",
            " 4   weight        397 non-null    float64\n",
            " 5   acceleration  397 non-null    float64\n",
            " 6   model year    397 non-null    int64  \n",
            " 7   orgin         397 non-null    int64  \n",
            " 8   name          397 non-null    object \n",
            "dtypes: float64(4), int64(3), object(2)\n",
            "memory usage: 28.0+ KB\n",
            "None\n"
          ]
        }
      ]
    },
    {
      "cell_type": "code",
      "source": [
        "print(data.describe())"
      ],
      "metadata": {
        "colab": {
          "base_uri": "https://localhost:8080/"
        },
        "id": "bsJyTEJIIH-Z",
        "outputId": "1dbb3978-75bc-4ba5-f06b-f531d6404dca"
      },
      "execution_count": 32,
      "outputs": [
        {
          "output_type": "stream",
          "name": "stdout",
          "text": [
            "              mpg   cylinders  displacement       weight  acceleration  \\\n",
            "count  397.000000  397.000000    397.000000   397.000000    397.000000   \n",
            "mean    23.528463    5.448363    193.139798  2969.080605     15.577078   \n",
            "std      7.820926    1.698329    104.244898   847.485218      2.755326   \n",
            "min      9.000000    3.000000     68.000000  1613.000000      8.000000   \n",
            "25%     17.500000    4.000000    104.000000  2223.000000     13.900000   \n",
            "50%     23.000000    4.000000    146.000000  2800.000000     15.500000   \n",
            "75%     29.000000    8.000000    262.000000  3609.000000     17.200000   \n",
            "max     46.600000    8.000000    455.000000  5140.000000     24.800000   \n",
            "\n",
            "       model year       orgin  \n",
            "count  397.000000  397.000000  \n",
            "mean    76.025189    1.574307  \n",
            "std      3.689922    0.802549  \n",
            "min     70.000000    1.000000  \n",
            "25%     73.000000    1.000000  \n",
            "50%     76.000000    1.000000  \n",
            "75%     79.000000    2.000000  \n",
            "max     82.000000    3.000000  \n"
          ]
        }
      ]
    },
    {
      "cell_type": "code",
      "source": [
        "print(data.describe(include='all')) #산술 데이터가 아닌 열에 대한 정보 포함함"
      ],
      "metadata": {
        "colab": {
          "base_uri": "https://localhost:8080/"
        },
        "id": "MWZvaj0eIKPE",
        "outputId": "7649c1c2-2490-4428-d3d6-9b8d6134d01e"
      },
      "execution_count": 34,
      "outputs": [
        {
          "output_type": "stream",
          "name": "stdout",
          "text": [
            "               mpg   cylinders  displacement horsepower       weight  \\\n",
            "count   397.000000  397.000000    397.000000        397   397.000000   \n",
            "unique         NaN         NaN           NaN         94          NaN   \n",
            "top            NaN         NaN           NaN      150.0          NaN   \n",
            "freq           NaN         NaN           NaN         22          NaN   \n",
            "mean     23.528463    5.448363    193.139798        NaN  2969.080605   \n",
            "std       7.820926    1.698329    104.244898        NaN   847.485218   \n",
            "min       9.000000    3.000000     68.000000        NaN  1613.000000   \n",
            "25%      17.500000    4.000000    104.000000        NaN  2223.000000   \n",
            "50%      23.000000    4.000000    146.000000        NaN  2800.000000   \n",
            "75%      29.000000    8.000000    262.000000        NaN  3609.000000   \n",
            "max      46.600000    8.000000    455.000000        NaN  5140.000000   \n",
            "\n",
            "        acceleration  model year       orgin        name  \n",
            "count     397.000000  397.000000  397.000000         397  \n",
            "unique           NaN         NaN         NaN         305  \n",
            "top              NaN         NaN         NaN  ford pinto  \n",
            "freq             NaN         NaN         NaN           6  \n",
            "mean       15.577078   76.025189    1.574307         NaN  \n",
            "std         2.755326    3.689922    0.802549         NaN  \n",
            "min         8.000000   70.000000    1.000000         NaN  \n",
            "25%        13.900000   73.000000    1.000000         NaN  \n",
            "50%        15.500000   76.000000    1.000000         NaN  \n",
            "75%        17.200000   79.000000    2.000000         NaN  \n",
            "max        24.800000   82.000000    3.000000         NaN  \n"
          ]
        }
      ]
    },
    {
      "cell_type": "code",
      "source": [
        "print(data.count())"
      ],
      "metadata": {
        "colab": {
          "base_uri": "https://localhost:8080/"
        },
        "id": "oJxN7ylfH5SF",
        "outputId": "63961a92-9955-411c-8784-2c1a7531672b"
      },
      "execution_count": 35,
      "outputs": [
        {
          "output_type": "stream",
          "name": "stdout",
          "text": [
            "mpg             397\n",
            "cylinders       397\n",
            "displacement    397\n",
            "horsepower      397\n",
            "weight          397\n",
            "acceleration    397\n",
            "model year      397\n",
            "orgin           397\n",
            "name            397\n",
            "dtype: int64\n"
          ]
        }
      ]
    },
    {
      "cell_type": "code",
      "source": [
        "print(data['horsepower'].value_counts()) #각 열의 고유값 개수"
      ],
      "metadata": {
        "colab": {
          "base_uri": "https://localhost:8080/"
        },
        "id": "0rtdv8FyIonf",
        "outputId": "d3fcda89-2360-43f4-a19d-eba2b0cc2f11"
      },
      "execution_count": 39,
      "outputs": [
        {
          "output_type": "stream",
          "name": "stdout",
          "text": [
            "150.0    22\n",
            "90.00    20\n",
            "88.00    19\n",
            "110.0    18\n",
            "100.0    17\n",
            "         ..\n",
            "61.00     1\n",
            "93.00     1\n",
            "148.0     1\n",
            "152.0     1\n",
            "82.00     1\n",
            "Name: horsepower, Length: 94, dtype: int64\n"
          ]
        }
      ]
    },
    {
      "cell_type": "markdown",
      "source": [
        "# 통계 함수 적용"
      ],
      "metadata": {
        "id": "ia7NTyapJPd1"
      }
    },
    {
      "cell_type": "code",
      "source": [
        "import pandas as pd"
      ],
      "metadata": {
        "id": "Z66rkQT2I6s2"
      },
      "execution_count": 40,
      "outputs": []
    },
    {
      "cell_type": "code",
      "source": [
        "import io"
      ],
      "metadata": {
        "id": "2fjjgooGJTw1"
      },
      "execution_count": 41,
      "outputs": []
    },
    {
      "cell_type": "code",
      "source": [
        "from google.colab import files"
      ],
      "metadata": {
        "id": "CMn2hKpVJUOr"
      },
      "execution_count": 42,
      "outputs": []
    },
    {
      "cell_type": "code",
      "source": [
        "a=files.upload()"
      ],
      "metadata": {
        "colab": {
          "base_uri": "https://localhost:8080/",
          "height": 77
        },
        "id": "arzypbBpJclK",
        "outputId": "f41ac4d0-0b4b-4a88-e178-43ddd6cb080b"
      },
      "execution_count": 43,
      "outputs": [
        {
          "output_type": "display_data",
          "data": {
            "text/plain": [
              "<IPython.core.display.HTML object>"
            ],
            "text/html": [
              "\n",
              "     <input type=\"file\" id=\"files-5d769eb8-2b58-4725-a0da-f57c29f04674\" name=\"files[]\" multiple disabled\n",
              "        style=\"border:none\" />\n",
              "     <output id=\"result-5d769eb8-2b58-4725-a0da-f57c29f04674\">\n",
              "      Upload widget is only available when the cell has been executed in the\n",
              "      current browser session. Please rerun this cell to enable.\n",
              "      </output>\n",
              "      <script>// Copyright 2017 Google LLC\n",
              "//\n",
              "// Licensed under the Apache License, Version 2.0 (the \"License\");\n",
              "// you may not use this file except in compliance with the License.\n",
              "// You may obtain a copy of the License at\n",
              "//\n",
              "//      http://www.apache.org/licenses/LICENSE-2.0\n",
              "//\n",
              "// Unless required by applicable law or agreed to in writing, software\n",
              "// distributed under the License is distributed on an \"AS IS\" BASIS,\n",
              "// WITHOUT WARRANTIES OR CONDITIONS OF ANY KIND, either express or implied.\n",
              "// See the License for the specific language governing permissions and\n",
              "// limitations under the License.\n",
              "\n",
              "/**\n",
              " * @fileoverview Helpers for google.colab Python module.\n",
              " */\n",
              "(function(scope) {\n",
              "function span(text, styleAttributes = {}) {\n",
              "  const element = document.createElement('span');\n",
              "  element.textContent = text;\n",
              "  for (const key of Object.keys(styleAttributes)) {\n",
              "    element.style[key] = styleAttributes[key];\n",
              "  }\n",
              "  return element;\n",
              "}\n",
              "\n",
              "// Max number of bytes which will be uploaded at a time.\n",
              "const MAX_PAYLOAD_SIZE = 100 * 1024;\n",
              "\n",
              "function _uploadFiles(inputId, outputId) {\n",
              "  const steps = uploadFilesStep(inputId, outputId);\n",
              "  const outputElement = document.getElementById(outputId);\n",
              "  // Cache steps on the outputElement to make it available for the next call\n",
              "  // to uploadFilesContinue from Python.\n",
              "  outputElement.steps = steps;\n",
              "\n",
              "  return _uploadFilesContinue(outputId);\n",
              "}\n",
              "\n",
              "// This is roughly an async generator (not supported in the browser yet),\n",
              "// where there are multiple asynchronous steps and the Python side is going\n",
              "// to poll for completion of each step.\n",
              "// This uses a Promise to block the python side on completion of each step,\n",
              "// then passes the result of the previous step as the input to the next step.\n",
              "function _uploadFilesContinue(outputId) {\n",
              "  const outputElement = document.getElementById(outputId);\n",
              "  const steps = outputElement.steps;\n",
              "\n",
              "  const next = steps.next(outputElement.lastPromiseValue);\n",
              "  return Promise.resolve(next.value.promise).then((value) => {\n",
              "    // Cache the last promise value to make it available to the next\n",
              "    // step of the generator.\n",
              "    outputElement.lastPromiseValue = value;\n",
              "    return next.value.response;\n",
              "  });\n",
              "}\n",
              "\n",
              "/**\n",
              " * Generator function which is called between each async step of the upload\n",
              " * process.\n",
              " * @param {string} inputId Element ID of the input file picker element.\n",
              " * @param {string} outputId Element ID of the output display.\n",
              " * @return {!Iterable<!Object>} Iterable of next steps.\n",
              " */\n",
              "function* uploadFilesStep(inputId, outputId) {\n",
              "  const inputElement = document.getElementById(inputId);\n",
              "  inputElement.disabled = false;\n",
              "\n",
              "  const outputElement = document.getElementById(outputId);\n",
              "  outputElement.innerHTML = '';\n",
              "\n",
              "  const pickedPromise = new Promise((resolve) => {\n",
              "    inputElement.addEventListener('change', (e) => {\n",
              "      resolve(e.target.files);\n",
              "    });\n",
              "  });\n",
              "\n",
              "  const cancel = document.createElement('button');\n",
              "  inputElement.parentElement.appendChild(cancel);\n",
              "  cancel.textContent = 'Cancel upload';\n",
              "  const cancelPromise = new Promise((resolve) => {\n",
              "    cancel.onclick = () => {\n",
              "      resolve(null);\n",
              "    };\n",
              "  });\n",
              "\n",
              "  // Wait for the user to pick the files.\n",
              "  const files = yield {\n",
              "    promise: Promise.race([pickedPromise, cancelPromise]),\n",
              "    response: {\n",
              "      action: 'starting',\n",
              "    }\n",
              "  };\n",
              "\n",
              "  cancel.remove();\n",
              "\n",
              "  // Disable the input element since further picks are not allowed.\n",
              "  inputElement.disabled = true;\n",
              "\n",
              "  if (!files) {\n",
              "    return {\n",
              "      response: {\n",
              "        action: 'complete',\n",
              "      }\n",
              "    };\n",
              "  }\n",
              "\n",
              "  for (const file of files) {\n",
              "    const li = document.createElement('li');\n",
              "    li.append(span(file.name, {fontWeight: 'bold'}));\n",
              "    li.append(span(\n",
              "        `(${file.type || 'n/a'}) - ${file.size} bytes, ` +\n",
              "        `last modified: ${\n",
              "            file.lastModifiedDate ? file.lastModifiedDate.toLocaleDateString() :\n",
              "                                    'n/a'} - `));\n",
              "    const percent = span('0% done');\n",
              "    li.appendChild(percent);\n",
              "\n",
              "    outputElement.appendChild(li);\n",
              "\n",
              "    const fileDataPromise = new Promise((resolve) => {\n",
              "      const reader = new FileReader();\n",
              "      reader.onload = (e) => {\n",
              "        resolve(e.target.result);\n",
              "      };\n",
              "      reader.readAsArrayBuffer(file);\n",
              "    });\n",
              "    // Wait for the data to be ready.\n",
              "    let fileData = yield {\n",
              "      promise: fileDataPromise,\n",
              "      response: {\n",
              "        action: 'continue',\n",
              "      }\n",
              "    };\n",
              "\n",
              "    // Use a chunked sending to avoid message size limits. See b/62115660.\n",
              "    let position = 0;\n",
              "    do {\n",
              "      const length = Math.min(fileData.byteLength - position, MAX_PAYLOAD_SIZE);\n",
              "      const chunk = new Uint8Array(fileData, position, length);\n",
              "      position += length;\n",
              "\n",
              "      const base64 = btoa(String.fromCharCode.apply(null, chunk));\n",
              "      yield {\n",
              "        response: {\n",
              "          action: 'append',\n",
              "          file: file.name,\n",
              "          data: base64,\n",
              "        },\n",
              "      };\n",
              "\n",
              "      let percentDone = fileData.byteLength === 0 ?\n",
              "          100 :\n",
              "          Math.round((position / fileData.byteLength) * 100);\n",
              "      percent.textContent = `${percentDone}% done`;\n",
              "\n",
              "    } while (position < fileData.byteLength);\n",
              "  }\n",
              "\n",
              "  // All done.\n",
              "  yield {\n",
              "    response: {\n",
              "      action: 'complete',\n",
              "    }\n",
              "  };\n",
              "}\n",
              "\n",
              "scope.google = scope.google || {};\n",
              "scope.google.colab = scope.google.colab || {};\n",
              "scope.google.colab._files = {\n",
              "  _uploadFiles,\n",
              "  _uploadFilesContinue,\n",
              "};\n",
              "})(self);\n",
              "</script> "
            ]
          },
          "metadata": {}
        },
        {
          "output_type": "stream",
          "name": "stdout",
          "text": [
            "Saving auto-mpg.csv to auto-mpg (1).csv\n"
          ]
        }
      ]
    },
    {
      "cell_type": "code",
      "source": [
        "data=pd.read_csv(io.BytesIO(file['auto-mpg.csv']))"
      ],
      "metadata": {
        "id": "8VDlX7_cJfAK"
      },
      "execution_count": 49,
      "outputs": []
    },
    {
      "cell_type": "code",
      "source": [
        "data.columns=['mpg','cylinders','displacement','horsepower','weight','acceleration','model year','origin','name'] "
      ],
      "metadata": {
        "id": "Jq7SfBK_Jpt5"
      },
      "execution_count": 50,
      "outputs": []
    },
    {
      "cell_type": "code",
      "source": [
        "print(data.mean())"
      ],
      "metadata": {
        "colab": {
          "base_uri": "https://localhost:8080/"
        },
        "id": "hhRTN1WNJ48-",
        "outputId": "df539be3-6c7d-4b6c-8850-b9101b95ad39"
      },
      "execution_count": 52,
      "outputs": [
        {
          "output_type": "stream",
          "name": "stdout",
          "text": [
            "mpg               23.528463\n",
            "cylinders          5.448363\n",
            "displacement     193.139798\n",
            "weight          2969.080605\n",
            "acceleration      15.577078\n",
            "model year        76.025189\n",
            "origin             1.574307\n",
            "dtype: float64\n"
          ]
        },
        {
          "output_type": "stream",
          "name": "stderr",
          "text": [
            "<ipython-input-52-333c16b2968c>:1: FutureWarning: The default value of numeric_only in DataFrame.mean is deprecated. In a future version, it will default to False. In addition, specifying 'numeric_only=None' is deprecated. Select only valid columns or specify the value of numeric_only to silence this warning.\n",
            "  print(data.mean())\n"
          ]
        }
      ]
    },
    {
      "cell_type": "code",
      "source": [
        "print(data.mpg.mean())"
      ],
      "metadata": {
        "colab": {
          "base_uri": "https://localhost:8080/"
        },
        "id": "5YNaPNF8J6el",
        "outputId": "6e9667bb-17ab-4400-dced-404225b45d4f"
      },
      "execution_count": 53,
      "outputs": [
        {
          "output_type": "stream",
          "name": "stdout",
          "text": [
            "23.528463476070527\n"
          ]
        }
      ]
    },
    {
      "cell_type": "code",
      "source": [
        "print(data.median()) #산술 데이터만 출력"
      ],
      "metadata": {
        "colab": {
          "base_uri": "https://localhost:8080/"
        },
        "id": "a9ZK0l41J-yL",
        "outputId": "debd1ba8-926a-473d-c240-ed37706bfcc8"
      },
      "execution_count": 54,
      "outputs": [
        {
          "output_type": "stream",
          "name": "stdout",
          "text": [
            "mpg               23.0\n",
            "cylinders          4.0\n",
            "displacement     146.0\n",
            "weight          2800.0\n",
            "acceleration      15.5\n",
            "model year        76.0\n",
            "origin             1.0\n",
            "dtype: float64\n"
          ]
        },
        {
          "output_type": "stream",
          "name": "stderr",
          "text": [
            "<ipython-input-54-20599fdb1a86>:1: FutureWarning: The default value of numeric_only in DataFrame.median is deprecated. In a future version, it will default to False. In addition, specifying 'numeric_only=None' is deprecated. Select only valid columns or specify the value of numeric_only to silence this warning.\n",
            "  print(data.median())\n"
          ]
        }
      ]
    },
    {
      "cell_type": "code",
      "source": [
        "print(data.max()) #문자열 데이터도 출력"
      ],
      "metadata": {
        "colab": {
          "base_uri": "https://localhost:8080/"
        },
        "id": "Z5UGCdkYKDnU",
        "outputId": "7a7197c8-cb7e-4ea4-dd46-0d361b260c44"
      },
      "execution_count": 55,
      "outputs": [
        {
          "output_type": "stream",
          "name": "stdout",
          "text": [
            "mpg                         46.6\n",
            "cylinders                      8\n",
            "displacement               455.0\n",
            "horsepower                     ?\n",
            "weight                    5140.0\n",
            "acceleration                24.8\n",
            "model year                    82\n",
            "origin                         3\n",
            "name            vw rabbit custom\n",
            "dtype: object\n"
          ]
        }
      ]
    },
    {
      "cell_type": "code",
      "source": [
        "print(data.min())"
      ],
      "metadata": {
        "colab": {
          "base_uri": "https://localhost:8080/"
        },
        "id": "p87QEHA0KGpB",
        "outputId": "7a499f21-5a7b-4cba-8e66-a24d36923c10"
      },
      "execution_count": 56,
      "outputs": [
        {
          "output_type": "stream",
          "name": "stdout",
          "text": [
            "mpg                                 9.0\n",
            "cylinders                             3\n",
            "displacement                       68.0\n",
            "horsepower                        100.0\n",
            "weight                           1613.0\n",
            "acceleration                        8.0\n",
            "model year                           70\n",
            "origin                                1\n",
            "name            amc ambassador brougham\n",
            "dtype: object\n"
          ]
        }
      ]
    },
    {
      "cell_type": "code",
      "source": [
        "print(data.std())"
      ],
      "metadata": {
        "colab": {
          "base_uri": "https://localhost:8080/"
        },
        "id": "52OGo4ZQKYgx",
        "outputId": "eea2f304-1115-402c-c334-44bfa319711c"
      },
      "execution_count": 57,
      "outputs": [
        {
          "output_type": "stream",
          "name": "stdout",
          "text": [
            "mpg               7.820926\n",
            "cylinders         1.698329\n",
            "displacement    104.244898\n",
            "weight          847.485218\n",
            "acceleration      2.755326\n",
            "model year        3.689922\n",
            "origin            0.802549\n",
            "dtype: float64\n"
          ]
        },
        {
          "output_type": "stream",
          "name": "stderr",
          "text": [
            "<ipython-input-57-a810e4c31d42>:1: FutureWarning: The default value of numeric_only in DataFrame.std is deprecated. In a future version, it will default to False. In addition, specifying 'numeric_only=None' is deprecated. Select only valid columns or specify the value of numeric_only to silence this warning.\n",
            "  print(data.std())\n"
          ]
        }
      ]
    },
    {
      "cell_type": "code",
      "source": [
        "print(data.corr())"
      ],
      "metadata": {
        "colab": {
          "base_uri": "https://localhost:8080/"
        },
        "id": "0Lh1KNEDKcPt",
        "outputId": "34e2cd9c-5198-4611-d03d-011e6f4d4e1d"
      },
      "execution_count": 58,
      "outputs": [
        {
          "output_type": "stream",
          "name": "stdout",
          "text": [
            "                   mpg  cylinders  displacement    weight  acceleration  \\\n",
            "mpg           1.000000  -0.775412     -0.803972 -0.831558      0.419133   \n",
            "cylinders    -0.775412   1.000000      0.950718  0.896623     -0.503016   \n",
            "displacement -0.803972   0.950718      1.000000  0.932957     -0.542083   \n",
            "weight       -0.831558   0.896623      0.932957  1.000000     -0.416488   \n",
            "acceleration  0.419133  -0.503016     -0.542083 -0.416488      1.000000   \n",
            "model year    0.578667  -0.344729     -0.367470 -0.305150      0.284376   \n",
            "origin        0.562894  -0.561796     -0.608749 -0.580552      0.204102   \n",
            "\n",
            "              model year    origin  \n",
            "mpg             0.578667  0.562894  \n",
            "cylinders      -0.344729 -0.561796  \n",
            "displacement   -0.367470 -0.608749  \n",
            "weight         -0.305150 -0.580552  \n",
            "acceleration    0.284376  0.204102  \n",
            "model year      1.000000  0.178441  \n",
            "origin          0.178441  1.000000  \n"
          ]
        },
        {
          "output_type": "stream",
          "name": "stderr",
          "text": [
            "<ipython-input-58-40835d1ef585>:1: FutureWarning: The default value of numeric_only in DataFrame.corr is deprecated. In a future version, it will default to False. Select only valid columns or specify the value of numeric_only to silence this warning.\n",
            "  print(data.corr())\n"
          ]
        }
      ]
    },
    {
      "cell_type": "markdown",
      "source": [
        "# 판다스 내장 그래프 도구 활용"
      ],
      "metadata": {
        "id": "quuEB-RcKroJ"
      }
    },
    {
      "cell_type": "code",
      "source": [
        "#plot() 메소드 활용"
      ],
      "metadata": {
        "id": "kfzKOMEoKfVm"
      },
      "execution_count": 108,
      "outputs": []
    },
    {
      "cell_type": "code",
      "source": [
        "import pandas as pd"
      ],
      "metadata": {
        "id": "8feq6Bc6K5Wm"
      },
      "execution_count": 109,
      "outputs": []
    },
    {
      "cell_type": "code",
      "source": [
        "import io"
      ],
      "metadata": {
        "id": "PwTyuG7JK7W7"
      },
      "execution_count": 110,
      "outputs": []
    },
    {
      "cell_type": "code",
      "source": [
        "from google.colab import files"
      ],
      "metadata": {
        "id": "dh5HKndJK-Ag"
      },
      "execution_count": 111,
      "outputs": []
    },
    {
      "cell_type": "code",
      "source": [
        "filename='남북한발전전력량.xlsx'"
      ],
      "metadata": {
        "id": "HD2UjprgLcXn"
      },
      "execution_count": 112,
      "outputs": []
    },
    {
      "cell_type": "code",
      "source": [
        "df=pd.read_excel('남북한발전전력량.xlsx',engine='openpyxl')"
      ],
      "metadata": {
        "id": "HN9OaJXGNkcq"
      },
      "execution_count": 113,
      "outputs": []
    },
    {
      "cell_type": "code",
      "source": [
        "df_ns=df.iloc[[0,5],3:]"
      ],
      "metadata": {
        "id": "D0uS8em5NuBR"
      },
      "execution_count": 114,
      "outputs": []
    },
    {
      "cell_type": "code",
      "source": [
        "df_ns.index=['South','North']"
      ],
      "metadata": {
        "id": "Ui67B7ktN2g2"
      },
      "execution_count": 115,
      "outputs": []
    },
    {
      "cell_type": "code",
      "source": [
        "df_ns.columns=df_ns.columns.map(int) #문자열로 저장된 연도를 정수형으로 변환환"
      ],
      "metadata": {
        "id": "3y4liSMEN6KJ"
      },
      "execution_count": 116,
      "outputs": []
    },
    {
      "cell_type": "code",
      "source": [
        "print(df_ns.head())"
      ],
      "metadata": {
        "colab": {
          "base_uri": "https://localhost:8080/"
        },
        "id": "MSTqj9QaN-D8",
        "outputId": "b2d5f08a-d2ca-40cc-f962-1bd163a5ac00"
      },
      "execution_count": 117,
      "outputs": [
        {
          "output_type": "stream",
          "name": "stdout",
          "text": [
            "       1991  1992  1993  1994  1995  1996  1997  1998  1999  2000  ...  2007  \\\n",
            "South  1186  1310  1444  1650  1847  2055  2244  2153  2393  2664  ...  4031   \n",
            "North   263   247   221   231   230   213   193   170   186   194  ...   236   \n",
            "\n",
            "       2008  2009  2010  2011  2012  2013  2014  2015  2016  \n",
            "South  4224  4336  4747  4969  5096  5171  5220  5281  5404  \n",
            "North   255   235   237   211   215   221   216   190   239  \n",
            "\n",
            "[2 rows x 26 columns]\n"
          ]
        }
      ]
    },
    {
      "cell_type": "code",
      "source": [
        "df_ns.plot()"
      ],
      "metadata": {
        "colab": {
          "base_uri": "https://localhost:8080/",
          "height": 634
        },
        "id": "DFCZsqSCN_nf",
        "outputId": "f82a0f41-8029-4773-84cc-bbcd2e5d4ab9"
      },
      "execution_count": 118,
      "outputs": [
        {
          "output_type": "execute_result",
          "data": {
            "text/plain": [
              "<Axes: >"
            ]
          },
          "metadata": {},
          "execution_count": 118
        },
        {
          "output_type": "display_data",
          "data": {
            "text/plain": [
              "<Figure size 640x480 with 1 Axes>"
            ],
            "image/png": "[encoded data removed]"
          },
          "metadata": {}
        }
      ]
    },
    {
      "cell_type": "code",
      "source": [
        "tdf_ns=df_ns.T"
      ],
      "metadata": {
        "id": "OxWIIx4FOdkJ"
      },
      "execution_count": 119,
      "outputs": []
    },
    {
      "cell_type": "code",
      "source": [
        "print(tdf_ns.head())"
      ],
      "metadata": {
        "colab": {
          "base_uri": "https://localhost:8080/"
        },
        "id": "auezYoh2Ouqg",
        "outputId": "56167cba-293e-4ae5-cafc-7451b0589394"
      },
      "execution_count": 120,
      "outputs": [
        {
          "output_type": "stream",
          "name": "stdout",
          "text": [
            "     South North\n",
            "1991  1186   263\n",
            "1992  1310   247\n",
            "1993  1444   221\n",
            "1994  1650   231\n",
            "1995  1847   230\n"
          ]
        }
      ]
    },
    {
      "cell_type": "code",
      "source": [
        "tdf_ns.plot()"
      ],
      "metadata": {
        "colab": {
          "base_uri": "https://localhost:8080/",
          "height": 448
        },
        "id": "CE_AtoCkOwo2",
        "outputId": "e57557ce-d6a3-4960-de38-8cd8f1824a8d"
      },
      "execution_count": 96,
      "outputs": [
        {
          "output_type": "execute_result",
          "data": {
            "text/plain": [
              "<Axes: >"
            ]
          },
          "metadata": {},
          "execution_count": 96
        },
        {
          "output_type": "display_data",
          "data": {
            "text/plain": [
              "<Figure size 640x480 with 1 Axes>"
            ],
            "image/png": "[encoded data removed]"
          },
          "metadata": {}
        }
      ]
    },
    {
      "cell_type": "code",
      "source": [
        "tdf_ns.plot(kind='bar')"
      ],
      "metadata": {
        "colab": {
          "base_uri": "https://localhost:8080/",
          "height": 469
        },
        "id": "IyLzp6VKOyiU",
        "outputId": "a813ccf3-29d2-419e-99bc-0a3c95aabd2a"
      },
      "execution_count": 100,
      "outputs": [
        {
          "output_type": "execute_result",
          "data": {
            "text/plain": [
              "<Axes: >"
            ]
          },
          "metadata": {},
          "execution_count": 100
        },
        {
          "output_type": "display_data",
          "data": {
            "text/plain": [
              "<Figure size 640x480 with 1 Axes>"
            ],
            "image/png": "[encoded data removed]"
          },
          "metadata": {}
        }
      ]
    },
    {
      "cell_type": "code",
      "source": [
        "# 산점도(scatter)"
      ],
      "metadata": {
        "id": "uQlsKqk2O7W7"
      },
      "execution_count": 122,
      "outputs": []
    },
    {
      "cell_type": "code",
      "source": [
        "import pandas as pd"
      ],
      "metadata": {
        "id": "ih9U0_UXRBDk"
      },
      "execution_count": 123,
      "outputs": []
    },
    {
      "cell_type": "code",
      "source": [
        "filename='auto-mpg.csv'"
      ],
      "metadata": {
        "id": "-SHkSKdLRE6r"
      },
      "execution_count": 127,
      "outputs": []
    },
    {
      "cell_type": "code",
      "source": [
        "a=pd.read_csv('auto-mpg.csv',header=None)"
      ],
      "metadata": {
        "id": "7piYm29ERUix"
      },
      "execution_count": 134,
      "outputs": []
    },
    {
      "cell_type": "code",
      "source": [
        "print(a)"
      ],
      "metadata": {
        "colab": {
          "base_uri": "https://localhost:8080/"
        },
        "id": "rOI-LMS7RnJE",
        "outputId": "76727c07-a6f5-44d9-aab1-4f66e6774e73"
      },
      "execution_count": 131,
      "outputs": [
        {
          "output_type": "stream",
          "name": "stdout",
          "text": [
            "     18.0  8  307.0  130.0   3504.  12.0  70  1 chevrolet chevelle malibu\n",
            "0    15.0  8  350.0  165.0  3693.0  11.5  70  1         buick skylark 320\n",
            "1    18.0  8  318.0  150.0  3436.0  11.0  70  1        plymouth satellite\n",
            "2    16.0  8  304.0  150.0  3433.0  12.0  70  1             amc rebel sst\n",
            "3    17.0  8  302.0  140.0  3449.0  10.5  70  1               ford torino\n",
            "4    15.0  8  429.0  198.0  4341.0  10.0  70  1          ford galaxie 500\n",
            "..    ... ..    ...    ...     ...   ...  .. ..                       ...\n",
            "392  27.0  4  140.0  86.00  2790.0  15.6  82  1           ford mustang gl\n",
            "393  44.0  4   97.0  52.00  2130.0  24.6  82  2                 vw pickup\n",
            "394  32.0  4  135.0  84.00  2295.0  11.6  82  1             dodge rampage\n",
            "395  28.0  4  120.0  79.00  2625.0  18.6  82  1               ford ranger\n",
            "396  31.0  4  119.0  82.00  2720.0  19.4  82  1                chevy s-10\n",
            "\n",
            "[397 rows x 9 columns]\n"
          ]
        }
      ]
    },
    {
      "cell_type": "code",
      "source": [
        "a.columns=['mpg','cylinders','displacement','horsepower','weight','acceleration','model year','origin','name']"
      ],
      "metadata": {
        "id": "44dE08YSRn5P"
      },
      "execution_count": 132,
      "outputs": []
    },
    {
      "cell_type": "code",
      "source": [
        "a.plot(x='weight',y='mpg',kind='scatter')"
      ],
      "metadata": {
        "colab": {
          "base_uri": "https://localhost:8080/",
          "height": 467
        },
        "id": "PVw1WDfmR1P1",
        "outputId": "1e99b51c-753e-40af-d95b-d5c984837be2"
      },
      "execution_count": 133,
      "outputs": [
        {
          "output_type": "execute_result",
          "data": {
            "text/plain": [
              "<Axes: xlabel='weight', ylabel='mpg'>"
            ]
          },
          "metadata": {},
          "execution_count": 133
        },
        {
          "output_type": "display_data",
          "data": {
            "text/plain": [
              "<Figure size 640x480 with 1 Axes>"
            ],
            "image/png": "[encoded data removed]"
          },
          "metadata": {}
        }
      ]
    },
    {
      "cell_type": "code",
      "source": [
        "df[['mpg','cylinders']].plot(kind='box') #박스 플롯롯"
      ],
      "metadata": {
        "colab": {
          "base_uri": "https://localhost:8080/",
          "height": 327
        },
        "id": "Er-JsIojR6SD",
        "outputId": "3d0becc3-5208-4296-9edd-fd24ab30f825"
      },
      "execution_count": 135,
      "outputs": [
        {
          "output_type": "error",
          "ename": "KeyError",
          "evalue": "ignored",
          "traceback": [
            "\u001b[0;31m---------------------------------------------------------------------------\u001b[0m",
            "\u001b[0;31mKeyError\u001b[0m                                  Traceback (most recent call last)",
            "\u001b[0;32m<ipython-input-135-d1b93b85b0ba>\u001b[0m in \u001b[0;36m<cell line: 1>\u001b[0;34m()\u001b[0m\n\u001b[0;32m----> 1\u001b[0;31m \u001b[0mdf\u001b[0m\u001b[0;34m[\u001b[0m\u001b[0;34m[\u001b[0m\u001b[0;34m'mpg'\u001b[0m\u001b[0;34m,\u001b[0m\u001b[0;34m'cylinders'\u001b[0m\u001b[0;34m]\u001b[0m\u001b[0;34m]\u001b[0m\u001b[0;34m.\u001b[0m\u001b[0mplot\u001b[0m\u001b[0;34m(\u001b[0m\u001b[0mkind\u001b[0m\u001b[0;34m=\u001b[0m\u001b[0;34m'box'\u001b[0m\u001b[0;34m)\u001b[0m\u001b[0;34m\u001b[0m\u001b[0;34m\u001b[0m\u001b[0m\n\u001b[0m",
            "\u001b[0;32m/usr/local/lib/python3.10/dist-packages/pandas/core/frame.py\u001b[0m in \u001b[0;36m__getitem__\u001b[0;34m(self, key)\u001b[0m\n\u001b[1;32m   3811\u001b[0m             \u001b[0;32mif\u001b[0m \u001b[0mis_iterator\u001b[0m\u001b[0;34m(\u001b[0m\u001b[0mkey\u001b[0m\u001b[0;34m)\u001b[0m\u001b[0;34m:\u001b[0m\u001b[0;34m\u001b[0m\u001b[0;34m\u001b[0m\u001b[0m\n\u001b[1;32m   3812\u001b[0m                 \u001b[0mkey\u001b[0m \u001b[0;34m=\u001b[0m \u001b[0mlist\u001b[0m\u001b[0;34m(\u001b[0m\u001b[0mkey\u001b[0m\u001b[0;34m)\u001b[0m\u001b[0;34m\u001b[0m\u001b[0;34m\u001b[0m\u001b[0m\n\u001b[0;32m-> 3813\u001b[0;31m             \u001b[0mindexer\u001b[0m \u001b[0;34m=\u001b[0m \u001b[0mself\u001b[0m\u001b[0;34m.\u001b[0m\u001b[0mcolumns\u001b[0m\u001b[0;34m.\u001b[0m\u001b[0m_get_indexer_strict\u001b[0m\u001b[0;34m(\u001b[0m\u001b[0mkey\u001b[0m\u001b[0;34m,\u001b[0m \u001b[0;34m\"columns\"\u001b[0m\u001b[0;34m)\u001b[0m\u001b[0;34m[\u001b[0m\u001b[0;36m1\u001b[0m\u001b[0;34m]\u001b[0m\u001b[0;34m\u001b[0m\u001b[0;34m\u001b[0m\u001b[0m\n\u001b[0m\u001b[1;32m   3814\u001b[0m \u001b[0;34m\u001b[0m\u001b[0m\n\u001b[1;32m   3815\u001b[0m         \u001b[0;31m# take() does not accept boolean indexers\u001b[0m\u001b[0;34m\u001b[0m\u001b[0;34m\u001b[0m\u001b[0m\n",
            "\u001b[0;32m/usr/local/lib/python3.10/dist-packages/pandas/core/indexes/base.py\u001b[0m in \u001b[0;36m_get_indexer_strict\u001b[0;34m(self, key, axis_name)\u001b[0m\n\u001b[1;32m   6068\u001b[0m             \u001b[0mkeyarr\u001b[0m\u001b[0;34m,\u001b[0m \u001b[0mindexer\u001b[0m\u001b[0;34m,\u001b[0m \u001b[0mnew_indexer\u001b[0m \u001b[0;34m=\u001b[0m \u001b[0mself\u001b[0m\u001b[0;34m.\u001b[0m\u001b[0m_reindex_non_unique\u001b[0m\u001b[0;34m(\u001b[0m\u001b[0mkeyarr\u001b[0m\u001b[0;34m)\u001b[0m\u001b[0;34m\u001b[0m\u001b[0;34m\u001b[0m\u001b[0m\n\u001b[1;32m   6069\u001b[0m \u001b[0;34m\u001b[0m\u001b[0m\n\u001b[0;32m-> 6070\u001b[0;31m         \u001b[0mself\u001b[0m\u001b[0;34m.\u001b[0m\u001b[0m_raise_if_missing\u001b[0m\u001b[0;34m(\u001b[0m\u001b[0mkeyarr\u001b[0m\u001b[0;34m,\u001b[0m \u001b[0mindexer\u001b[0m\u001b[0;34m,\u001b[0m \u001b[0maxis_name\u001b[0m\u001b[0;34m)\u001b[0m\u001b[0;34m\u001b[0m\u001b[0;34m\u001b[0m\u001b[0m\n\u001b[0m\u001b[1;32m   6071\u001b[0m \u001b[0;34m\u001b[0m\u001b[0m\n\u001b[1;32m   6072\u001b[0m         \u001b[0mkeyarr\u001b[0m \u001b[0;34m=\u001b[0m \u001b[0mself\u001b[0m\u001b[0;34m.\u001b[0m\u001b[0mtake\u001b[0m\u001b[0;34m(\u001b[0m\u001b[0mindexer\u001b[0m\u001b[0;34m)\u001b[0m\u001b[0;34m\u001b[0m\u001b[0;34m\u001b[0m\u001b[0m\n",
            "\u001b[0;32m/usr/local/lib/python3.10/dist-packages/pandas/core/indexes/base.py\u001b[0m in \u001b[0;36m_raise_if_missing\u001b[0;34m(self, key, indexer, axis_name)\u001b[0m\n\u001b[1;32m   6128\u001b[0m                 \u001b[0;32mif\u001b[0m \u001b[0muse_interval_msg\u001b[0m\u001b[0;34m:\u001b[0m\u001b[0;34m\u001b[0m\u001b[0;34m\u001b[0m\u001b[0m\n\u001b[1;32m   6129\u001b[0m                     \u001b[0mkey\u001b[0m \u001b[0;34m=\u001b[0m \u001b[0mlist\u001b[0m\u001b[0;34m(\u001b[0m\u001b[0mkey\u001b[0m\u001b[0;34m)\u001b[0m\u001b[0;34m\u001b[0m\u001b[0;34m\u001b[0m\u001b[0m\n\u001b[0;32m-> 6130\u001b[0;31m                 \u001b[0;32mraise\u001b[0m \u001b[0mKeyError\u001b[0m\u001b[0;34m(\u001b[0m\u001b[0;34mf\"None of [{key}] are in the [{axis_name}]\"\u001b[0m\u001b[0;34m)\u001b[0m\u001b[0;34m\u001b[0m\u001b[0;34m\u001b[0m\u001b[0m\n\u001b[0m\u001b[1;32m   6131\u001b[0m \u001b[0;34m\u001b[0m\u001b[0m\n\u001b[1;32m   6132\u001b[0m             \u001b[0mnot_found\u001b[0m \u001b[0;34m=\u001b[0m \u001b[0mlist\u001b[0m\u001b[0;34m(\u001b[0m\u001b[0mensure_index\u001b[0m\u001b[0;34m(\u001b[0m\u001b[0mkey\u001b[0m\u001b[0;34m)\u001b[0m\u001b[0;34m[\u001b[0m\u001b[0mmissing_mask\u001b[0m\u001b[0;34m.\u001b[0m\u001b[0mnonzero\u001b[0m\u001b[0;34m(\u001b[0m\u001b[0;34m)\u001b[0m\u001b[0;34m[\u001b[0m\u001b[0;36m0\u001b[0m\u001b[0;34m]\u001b[0m\u001b[0;34m]\u001b[0m\u001b[0;34m.\u001b[0m\u001b[0munique\u001b[0m\u001b[0;34m(\u001b[0m\u001b[0;34m)\u001b[0m\u001b[0;34m)\u001b[0m\u001b[0;34m\u001b[0m\u001b[0;34m\u001b[0m\u001b[0m\n",
            "\u001b[0;31mKeyError\u001b[0m: \"None of [Index(['mpg', 'cylinders'], dtype='object')] are in the [columns]\""
          ]
        }
      ]
    },
    {
      "cell_type": "code",
      "source": [],
      "metadata": {
        "id": "Uqlyi7qTSHix"
      },
      "execution_count": null,
      "outputs": []
    }
  ]
}